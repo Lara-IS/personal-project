{
 "cells": [
  {
   "cell_type": "markdown",
   "metadata": {},
   "source": [
    "## DATA ANALYSIS' PROJECT\n",
    "# <font color = orange> 🚀 **__RICK & MORTY__** 🚀"
   ]
  },
  {
   "cell_type": "markdown",
   "metadata": {},
   "source": [
    "> ### SUMMARY:\n",
    "> 1. Getting started: connection to the API and getting a first working DF.\n",
    "> 2. Preliminary EDA\n",
    "> 3. "
   ]
  },
  {
   "cell_type": "markdown",
   "metadata": {},
   "source": [
    "### Libraries"
   ]
  },
  {
   "cell_type": "code",
   "execution_count": 54,
   "metadata": {},
   "outputs": [],
   "source": [
    "import pandas as pd\n",
    "import numpy as  np\n",
    "import requests\n",
    "\n",
    "import sys \n",
    "import pyjsonviewer\n",
    "import seaborn as sns \n",
    "import matplotlib.pyplot as plt \n",
    "\n",
    "#import mysql.connector "
   ]
  },
  {
   "cell_type": "markdown",
   "metadata": {},
   "source": [
    "## {1} 🛸 Getting started:\n",
    "__RICK AND MORTY API__\n",
    "- Call to the API and transformation to json\n",
    "- Extraction of character's data\n",
    "- Creation of a dataframe for the first url (page 1) and concatenation of following pages \n"
   ]
  },
  {
   "cell_type": "code",
   "execution_count": 55,
   "metadata": {},
   "outputs": [],
   "source": [
    "json = requests.get(\"https://rickandmortyapi.com/api/character\").json()\n",
    "df = pd.DataFrame(json[\"results\"])"
   ]
  },
  {
   "cell_type": "code",
   "execution_count": 56,
   "metadata": {},
   "outputs": [],
   "source": [
    "page = 2\n",
    "while page < 43:\n",
    "    json2 = requests.get(\"https://rickandmortyapi.com/api/character/?page=\"+str(page)).json()\n",
    "    df_n = pd.DataFrame(json2['results'])\n",
    "    df = pd.concat([df, df_n])\n",
    "    page += 1"
   ]
  },
  {
   "cell_type": "code",
   "execution_count": 57,
   "metadata": {},
   "outputs": [
    {
     "data": {
      "text/html": [
       "<div>\n",
       "<style scoped>\n",
       "    .dataframe tbody tr th:only-of-type {\n",
       "        vertical-align: middle;\n",
       "    }\n",
       "\n",
       "    .dataframe tbody tr th {\n",
       "        vertical-align: top;\n",
       "    }\n",
       "\n",
       "    .dataframe thead th {\n",
       "        text-align: right;\n",
       "    }\n",
       "</style>\n",
       "<table border=\"1\" class=\"dataframe\">\n",
       "  <thead>\n",
       "    <tr style=\"text-align: right;\">\n",
       "      <th></th>\n",
       "      <th>id</th>\n",
       "      <th>name</th>\n",
       "      <th>status</th>\n",
       "      <th>species</th>\n",
       "      <th>type</th>\n",
       "      <th>gender</th>\n",
       "      <th>origin</th>\n",
       "      <th>location</th>\n",
       "      <th>image</th>\n",
       "      <th>episode</th>\n",
       "      <th>url</th>\n",
       "      <th>created</th>\n",
       "    </tr>\n",
       "  </thead>\n",
       "  <tbody>\n",
       "    <tr>\n",
       "      <th>0</th>\n",
       "      <td>1</td>\n",
       "      <td>Rick Sanchez</td>\n",
       "      <td>Alive</td>\n",
       "      <td>Human</td>\n",
       "      <td></td>\n",
       "      <td>Male</td>\n",
       "      <td>{'name': 'Earth (C-137)', 'url': 'https://rick...</td>\n",
       "      <td>{'name': 'Citadel of Ricks', 'url': 'https://r...</td>\n",
       "      <td>https://rickandmortyapi.com/api/character/avat...</td>\n",
       "      <td>[https://rickandmortyapi.com/api/episode/1, ht...</td>\n",
       "      <td>https://rickandmortyapi.com/api/character/1</td>\n",
       "      <td>2017-11-04T18:48:46.250Z</td>\n",
       "    </tr>\n",
       "    <tr>\n",
       "      <th>1</th>\n",
       "      <td>2</td>\n",
       "      <td>Morty Smith</td>\n",
       "      <td>Alive</td>\n",
       "      <td>Human</td>\n",
       "      <td></td>\n",
       "      <td>Male</td>\n",
       "      <td>{'name': 'unknown', 'url': ''}</td>\n",
       "      <td>{'name': 'Citadel of Ricks', 'url': 'https://r...</td>\n",
       "      <td>https://rickandmortyapi.com/api/character/avat...</td>\n",
       "      <td>[https://rickandmortyapi.com/api/episode/1, ht...</td>\n",
       "      <td>https://rickandmortyapi.com/api/character/2</td>\n",
       "      <td>2017-11-04T18:50:21.651Z</td>\n",
       "    </tr>\n",
       "    <tr>\n",
       "      <th>2</th>\n",
       "      <td>3</td>\n",
       "      <td>Summer Smith</td>\n",
       "      <td>Alive</td>\n",
       "      <td>Human</td>\n",
       "      <td></td>\n",
       "      <td>Female</td>\n",
       "      <td>{'name': 'Earth (Replacement Dimension)', 'url...</td>\n",
       "      <td>{'name': 'Earth (Replacement Dimension)', 'url...</td>\n",
       "      <td>https://rickandmortyapi.com/api/character/avat...</td>\n",
       "      <td>[https://rickandmortyapi.com/api/episode/6, ht...</td>\n",
       "      <td>https://rickandmortyapi.com/api/character/3</td>\n",
       "      <td>2017-11-04T19:09:56.428Z</td>\n",
       "    </tr>\n",
       "    <tr>\n",
       "      <th>3</th>\n",
       "      <td>4</td>\n",
       "      <td>Beth Smith</td>\n",
       "      <td>Alive</td>\n",
       "      <td>Human</td>\n",
       "      <td></td>\n",
       "      <td>Female</td>\n",
       "      <td>{'name': 'Earth (Replacement Dimension)', 'url...</td>\n",
       "      <td>{'name': 'Earth (Replacement Dimension)', 'url...</td>\n",
       "      <td>https://rickandmortyapi.com/api/character/avat...</td>\n",
       "      <td>[https://rickandmortyapi.com/api/episode/6, ht...</td>\n",
       "      <td>https://rickandmortyapi.com/api/character/4</td>\n",
       "      <td>2017-11-04T19:22:43.665Z</td>\n",
       "    </tr>\n",
       "    <tr>\n",
       "      <th>4</th>\n",
       "      <td>5</td>\n",
       "      <td>Jerry Smith</td>\n",
       "      <td>Alive</td>\n",
       "      <td>Human</td>\n",
       "      <td></td>\n",
       "      <td>Male</td>\n",
       "      <td>{'name': 'Earth (Replacement Dimension)', 'url...</td>\n",
       "      <td>{'name': 'Earth (Replacement Dimension)', 'url...</td>\n",
       "      <td>https://rickandmortyapi.com/api/character/avat...</td>\n",
       "      <td>[https://rickandmortyapi.com/api/episode/6, ht...</td>\n",
       "      <td>https://rickandmortyapi.com/api/character/5</td>\n",
       "      <td>2017-11-04T19:26:56.301Z</td>\n",
       "    </tr>\n",
       "  </tbody>\n",
       "</table>\n",
       "</div>"
      ],
      "text/plain": [
       "   id          name status species type  gender  \\\n",
       "0   1  Rick Sanchez  Alive   Human         Male   \n",
       "1   2   Morty Smith  Alive   Human         Male   \n",
       "2   3  Summer Smith  Alive   Human       Female   \n",
       "3   4    Beth Smith  Alive   Human       Female   \n",
       "4   5   Jerry Smith  Alive   Human         Male   \n",
       "\n",
       "                                              origin  \\\n",
       "0  {'name': 'Earth (C-137)', 'url': 'https://rick...   \n",
       "1                     {'name': 'unknown', 'url': ''}   \n",
       "2  {'name': 'Earth (Replacement Dimension)', 'url...   \n",
       "3  {'name': 'Earth (Replacement Dimension)', 'url...   \n",
       "4  {'name': 'Earth (Replacement Dimension)', 'url...   \n",
       "\n",
       "                                            location  \\\n",
       "0  {'name': 'Citadel of Ricks', 'url': 'https://r...   \n",
       "1  {'name': 'Citadel of Ricks', 'url': 'https://r...   \n",
       "2  {'name': 'Earth (Replacement Dimension)', 'url...   \n",
       "3  {'name': 'Earth (Replacement Dimension)', 'url...   \n",
       "4  {'name': 'Earth (Replacement Dimension)', 'url...   \n",
       "\n",
       "                                               image  \\\n",
       "0  https://rickandmortyapi.com/api/character/avat...   \n",
       "1  https://rickandmortyapi.com/api/character/avat...   \n",
       "2  https://rickandmortyapi.com/api/character/avat...   \n",
       "3  https://rickandmortyapi.com/api/character/avat...   \n",
       "4  https://rickandmortyapi.com/api/character/avat...   \n",
       "\n",
       "                                             episode  \\\n",
       "0  [https://rickandmortyapi.com/api/episode/1, ht...   \n",
       "1  [https://rickandmortyapi.com/api/episode/1, ht...   \n",
       "2  [https://rickandmortyapi.com/api/episode/6, ht...   \n",
       "3  [https://rickandmortyapi.com/api/episode/6, ht...   \n",
       "4  [https://rickandmortyapi.com/api/episode/6, ht...   \n",
       "\n",
       "                                           url                   created  \n",
       "0  https://rickandmortyapi.com/api/character/1  2017-11-04T18:48:46.250Z  \n",
       "1  https://rickandmortyapi.com/api/character/2  2017-11-04T18:50:21.651Z  \n",
       "2  https://rickandmortyapi.com/api/character/3  2017-11-04T19:09:56.428Z  \n",
       "3  https://rickandmortyapi.com/api/character/4  2017-11-04T19:22:43.665Z  \n",
       "4  https://rickandmortyapi.com/api/character/5  2017-11-04T19:26:56.301Z  "
      ]
     },
     "execution_count": 57,
     "metadata": {},
     "output_type": "execute_result"
    }
   ],
   "source": [
    "df.reset_index(inplace=True)\n",
    "df.drop(columns=\"index\", inplace = True)\n",
    "df.head()"
   ]
  },
  {
   "cell_type": "markdown",
   "metadata": {},
   "source": [
    "- Unpacking of dictonary-type columns \"origin\" and \"location\""
   ]
  },
  {
   "cell_type": "code",
   "execution_count": 58,
   "metadata": {},
   "outputs": [],
   "source": [
    "def get_origin(col, item):\n",
    "    origins_list = []\n",
    "    for key, value in col.items():\n",
    "        for key2, value2, in value.items():\n",
    "            if key2 == item:\n",
    "                origins_list.append(value2)\n",
    "            else:\n",
    "                pass\n",
    "    return origins_list      "
   ]
  },
  {
   "cell_type": "markdown",
   "metadata": {},
   "source": [
    "    - [\"origin_name\"]"
   ]
  },
  {
   "cell_type": "code",
   "execution_count": 59,
   "metadata": {},
   "outputs": [],
   "source": [
    "origin_list = get_origin(col = df[\"origin\"], item = \"name\")\n",
    "df[\"origin_name\"] = pd.DataFrame(origin_list)"
   ]
  },
  {
   "cell_type": "markdown",
   "metadata": {},
   "source": [
    "    - [\"origin_url\"]"
   ]
  },
  {
   "cell_type": "code",
   "execution_count": 60,
   "metadata": {},
   "outputs": [],
   "source": [
    "origin_url = get_origin(col = df[\"origin\"], item = \"url\")\n",
    "df[\"origin_url\"] = pd.DataFrame(origin_url)"
   ]
  },
  {
   "cell_type": "markdown",
   "metadata": {},
   "source": [
    "    - [\"location_name\"]"
   ]
  },
  {
   "cell_type": "code",
   "execution_count": 61,
   "metadata": {},
   "outputs": [],
   "source": [
    "location_list = get_origin(col = df[\"location\"], item = \"name\")\n",
    "df[\"location_name\"] = pd.DataFrame(location_list)"
   ]
  },
  {
   "cell_type": "markdown",
   "metadata": {},
   "source": [
    "    - [\"location_url\"]"
   ]
  },
  {
   "cell_type": "code",
   "execution_count": 62,
   "metadata": {},
   "outputs": [],
   "source": [
    "location_url = get_origin(col = df[\"location\"], item = \"url\")\n",
    "df[\"location_url\"] = pd.DataFrame(location_url)"
   ]
  },
  {
   "cell_type": "markdown",
   "metadata": {},
   "source": [
    "    - Drop \"origin\" and \"location\" dict-type cols after they are unpacked!"
   ]
  },
  {
   "cell_type": "code",
   "execution_count": 63,
   "metadata": {},
   "outputs": [],
   "source": [
    "df = df.drop(columns = [\"origin\", \"location\"], axis = 1)\n",
    "df.head(2)"
   ]
  },
  {
   "cell_type": "markdown",
   "metadata": {},
   "source": [
    "    - For easier reading: reordering columns"
   ]
  },
  {
   "cell_type": "code",
   "execution_count": 72,
   "metadata": {},
   "outputs": [],
   "source": [
    "reord_columns = ['id', 'name',  'gender', 'status', 'species', 'type','origin_name', 'location_name', 'episode',\n",
    "       'url', 'image','created', 'origin_url', 'location_url']\n",
    "\n",
    "df = df.reindex(columns = reord_columns)"
   ]
  },
  {
   "cell_type": "markdown",
   "metadata": {},
   "source": [
    "\n",
    "\n",
    "\n",
    "\n",
    "------\n",
    "## {2} 🛸 Preliminary Exploratory Data Analysis (EDA):"
   ]
  },
  {
   "cell_type": "code",
   "execution_count": 105,
   "metadata": {},
   "outputs": [
    {
     "name": "stdout",
     "output_type": "stream",
     "text": [
      "The dataframe, at this moment, contains 826 rows and 14 columns.\n"
     ]
    }
   ],
   "source": [
    "print(\"The dataframe, at this moment, contains\", df.shape[0], \"rows and\", df.shape[1], \"columns.\")"
   ]
  },
  {
   "cell_type": "code",
   "execution_count": 106,
   "metadata": {},
   "outputs": [
    {
     "data": {
      "text/plain": [
       "Index(['id', 'name', 'gender', 'status', 'species', 'type', 'origin_name',\n",
       "       'location_name', 'episode', 'url', 'image', 'created', 'origin_url',\n",
       "       'location_url'],\n",
       "      dtype='object')"
      ]
     },
     "execution_count": 106,
     "metadata": {},
     "output_type": "execute_result"
    }
   ],
   "source": [
    "df.columns"
   ]
  },
  {
   "cell_type": "markdown",
   "metadata": {},
   "source": [
    "Info in the columns:"
   ]
  },
  {
   "cell_type": "code",
   "execution_count": 115,
   "metadata": {},
   "outputs": [
    {
     "name": "stdout",
     "output_type": "stream",
     "text": [
      "1. ID: The id is a unique number assigned to each of the registers (we may probably drop this column soon as it seems to work as an index). \n",
      "\n",
      " 2. NAME: The amount of unique names registered is 757 \n",
      "\n",
      " 3. GENDER: These are the genders assigned to the characters: \n",
      " Male          610\n",
      "Female        148\n",
      "unknown        49\n",
      "Genderless     19\n",
      "Name: gender, dtype: int64 \n",
      "\n",
      " 4. STATUS: This variable informs about whether the character is alive or not. Being: \n",
      " Alive      439\n",
      "Dead       287\n",
      "unknown    100\n",
      "Name: status, dtype: int64 \n",
      "\n",
      "5. SPECIES: These are the different species registered: \n",
      " Human                    366\n",
      "Alien                    205\n",
      "Humanoid                  68\n",
      "Animal                    55\n",
      "Robot                     51\n",
      "Mythological Creature     46\n",
      "unknown                   13\n",
      "Poopybutthole              8\n",
      "Cronenberg                 8\n",
      "Disease                    6\n",
      "Name: species, dtype: int64\n"
     ]
    }
   ],
   "source": [
    "print(\"1. ID: The id is a unique number assigned to each of the registers (we may probably drop this column soon as it seems to work as an index).\", \"\\n\\n\",\n",
    "       \"2. NAME: The amount of unique names registered is\", len(df[\"name\"].value_counts()),\"\\n\\n\",\n",
    "       \"3. GENDER: These are the genders assigned to the characters:\", \"\\n\", df[\"gender\"].value_counts(), \"\\n\\n\",\n",
    "       \"4. STATUS: This variable informs about whether the character is alive or not. Being:\" , \"\\n\", df[\"status\"].value_counts(), \"\\n\\n\"\n",
    "       \"5. SPECIES: These are the different species registered:\", \"\\n\", df[\"species\"].value_counts())\n",
    "    "
   ]
  },
  {
   "cell_type": "code",
   "execution_count": 113,
   "metadata": {},
   "outputs": [
    {
     "name": "stdout",
     "output_type": "stream",
     "text": [
      "6. TYPE: These are the different types registered: \n",
      "                           401\n",
      "Soulless Puppet            46\n",
      "Decoy                      26\n",
      "Parasite                   19\n",
      "Snake                      14\n",
      "                         ... \n",
      "Boobie buyer reptilian      1\n",
      "Human Gazorpian             1\n",
      "Sentient ant colony         1\n",
      "Alligator-Person            1\n",
      "Passing Butter Robot        1\n",
      "Name: type, Length: 170, dtype: int64 .\n",
      "\n",
      " 7. ORIGIN_NAME: These are the different origins (planets) registered: \n",
      " unknown                          300\n",
      "Earth (Replacement Dimension)    155\n",
      "Earth (C-137)                     33\n",
      "Story Train                       29\n",
      "Interdimensional Cable            16\n",
      "                                ... \n",
      "Plopstar                           1\n",
      "Earth (Tusk Dimension)             1\n",
      "Plitzville Montana                 1\n",
      "Girvonesk                          1\n",
      "Hamster in Butt World              1\n",
      "Name: origin_name, Length: 97, dtype: int64 .\n",
      "\n",
      " 8. LOCATION_NAME: These are the different current locations (planets) registered: \n",
      " Earth (Replacement Dimension)    230\n",
      "Citadel of Ricks                 101\n",
      "Interdimensional Cable            62\n",
      "Story Train                       27\n",
      "Earth (C-137)                     27\n",
      "                                ... \n",
      "Mount Space Everest                1\n",
      "Galactic Federation Prison         1\n",
      "Hamster in Butt World              1\n",
      "Alien Day Spa                      1\n",
      "Pawn Shop Planet                   1\n",
      "Name: location_name, Length: 95, dtype: int64 .\n",
      "\n",
      "9. EPISODE: For each row there's a list of the different episodes where the character appears. \n",
      "\n",
      "10. CREATION: Date when the character was added to the API. \n",
      "\n",
      "URLS: [character / image / origin_url / location_url], ¡we'll use them for visualization purposes at the end of this ETL! \n",
      "\n",
      "\n"
     ]
    }
   ],
   "source": [
    "   print(\"6. TYPE: These are the different types registered:\", \"\\n\", df[\"type\"].value_counts(), \".\\n\\n\",\n",
    "       \"7. ORIGIN_NAME: These are the different origins (planets) registered:\", \"\\n\", df[\"origin_name\"].value_counts(), \".\\n\\n\",\n",
    "       \"8. LOCATION_NAME: These are the different current locations (planets) registered:\", \"\\n\", df[\"location_name\"].value_counts(), \".\\n\\n\"\n",
    "       \"9. EPISODE: For each row there's a list of the different episodes where the character appears.\", \"\\n\\n\"\n",
    "       \"10. CREATION: Date when the character was added to the API.\", \"\\n\\n\"\n",
    "       \"URLS: [character / image / origin_url / location_url], ¡we'll use them for visualization purposes at the end of this ETL!\",  \"\\n\\n\")\n"
   ]
  },
  {
   "cell_type": "markdown",
   "metadata": {},
   "source": [
    "Checking Nulls & Dtypes:\n",
    "- There are not null values in the dataset, which is nice!\n",
    "- The only column with numerical values is the ID... this may lead us to take a very categorical analysis..."
   ]
  },
  {
   "cell_type": "code",
   "execution_count": 117,
   "metadata": {},
   "outputs": [
    {
     "name": "stdout",
     "output_type": "stream",
     "text": [
      "<class 'pandas.core.frame.DataFrame'>\n",
      "RangeIndex: 826 entries, 0 to 825\n",
      "Data columns (total 14 columns):\n",
      " #   Column         Non-Null Count  Dtype \n",
      "---  ------         --------------  ----- \n",
      " 0   id             826 non-null    int64 \n",
      " 1   name           826 non-null    object\n",
      " 2   gender         826 non-null    object\n",
      " 3   status         826 non-null    object\n",
      " 4   species        826 non-null    object\n",
      " 5   type           826 non-null    object\n",
      " 6   origin_name    826 non-null    object\n",
      " 7   location_name  826 non-null    object\n",
      " 8   episode        826 non-null    object\n",
      " 9   url            826 non-null    object\n",
      " 10  image          826 non-null    object\n",
      " 11  created        826 non-null    object\n",
      " 12  origin_url     826 non-null    object\n",
      " 13  location_url   826 non-null    object\n",
      "dtypes: int64(1), object(13)\n",
      "memory usage: 90.5+ KB\n"
     ]
    }
   ],
   "source": [
    "df.info()"
   ]
  },
  {
   "cell_type": "code",
   "execution_count": 120,
   "metadata": {},
   "outputs": [
    {
     "data": {
      "text/html": [
       "<div>\n",
       "<style scoped>\n",
       "    .dataframe tbody tr th:only-of-type {\n",
       "        vertical-align: middle;\n",
       "    }\n",
       "\n",
       "    .dataframe tbody tr th {\n",
       "        vertical-align: top;\n",
       "    }\n",
       "\n",
       "    .dataframe thead th {\n",
       "        text-align: right;\n",
       "    }\n",
       "</style>\n",
       "<table border=\"1\" class=\"dataframe\">\n",
       "  <thead>\n",
       "    <tr style=\"text-align: right;\">\n",
       "      <th></th>\n",
       "      <th>count</th>\n",
       "      <th>unique</th>\n",
       "      <th>top</th>\n",
       "      <th>freq</th>\n",
       "    </tr>\n",
       "  </thead>\n",
       "  <tbody>\n",
       "    <tr>\n",
       "      <th>name</th>\n",
       "      <td>826</td>\n",
       "      <td>757</td>\n",
       "      <td>Cirque du Soleil Zumanity Member</td>\n",
       "      <td>5</td>\n",
       "    </tr>\n",
       "    <tr>\n",
       "      <th>gender</th>\n",
       "      <td>826</td>\n",
       "      <td>4</td>\n",
       "      <td>Male</td>\n",
       "      <td>610</td>\n",
       "    </tr>\n",
       "    <tr>\n",
       "      <th>status</th>\n",
       "      <td>826</td>\n",
       "      <td>3</td>\n",
       "      <td>Alive</td>\n",
       "      <td>439</td>\n",
       "    </tr>\n",
       "    <tr>\n",
       "      <th>species</th>\n",
       "      <td>826</td>\n",
       "      <td>10</td>\n",
       "      <td>Human</td>\n",
       "      <td>366</td>\n",
       "    </tr>\n",
       "    <tr>\n",
       "      <th>type</th>\n",
       "      <td>826</td>\n",
       "      <td>170</td>\n",
       "      <td></td>\n",
       "      <td>401</td>\n",
       "    </tr>\n",
       "    <tr>\n",
       "      <th>origin_name</th>\n",
       "      <td>826</td>\n",
       "      <td>97</td>\n",
       "      <td>unknown</td>\n",
       "      <td>300</td>\n",
       "    </tr>\n",
       "    <tr>\n",
       "      <th>location_name</th>\n",
       "      <td>826</td>\n",
       "      <td>95</td>\n",
       "      <td>Earth (Replacement Dimension)</td>\n",
       "      <td>230</td>\n",
       "    </tr>\n",
       "    <tr>\n",
       "      <th>episode</th>\n",
       "      <td>826</td>\n",
       "      <td>130</td>\n",
       "      <td>[https://rickandmortyapi.com/api/episode/28]</td>\n",
       "      <td>51</td>\n",
       "    </tr>\n",
       "    <tr>\n",
       "      <th>url</th>\n",
       "      <td>826</td>\n",
       "      <td>826</td>\n",
       "      <td>https://rickandmortyapi.com/api/character/1</td>\n",
       "      <td>1</td>\n",
       "    </tr>\n",
       "    <tr>\n",
       "      <th>image</th>\n",
       "      <td>826</td>\n",
       "      <td>826</td>\n",
       "      <td>https://rickandmortyapi.com/api/character/avat...</td>\n",
       "      <td>1</td>\n",
       "    </tr>\n",
       "    <tr>\n",
       "      <th>created</th>\n",
       "      <td>826</td>\n",
       "      <td>826</td>\n",
       "      <td>2017-11-04T18:48:46.250Z</td>\n",
       "      <td>1</td>\n",
       "    </tr>\n",
       "    <tr>\n",
       "      <th>origin_url</th>\n",
       "      <td>826</td>\n",
       "      <td>97</td>\n",
       "      <td></td>\n",
       "      <td>300</td>\n",
       "    </tr>\n",
       "    <tr>\n",
       "      <th>location_url</th>\n",
       "      <td>826</td>\n",
       "      <td>95</td>\n",
       "      <td>https://rickandmortyapi.com/api/location/20</td>\n",
       "      <td>230</td>\n",
       "    </tr>\n",
       "  </tbody>\n",
       "</table>\n",
       "</div>"
      ],
      "text/plain": [
       "              count unique                                                top  \\\n",
       "name            826    757                   Cirque du Soleil Zumanity Member   \n",
       "gender          826      4                                               Male   \n",
       "status          826      3                                              Alive   \n",
       "species         826     10                                              Human   \n",
       "type            826    170                                                      \n",
       "origin_name     826     97                                            unknown   \n",
       "location_name   826     95                      Earth (Replacement Dimension)   \n",
       "episode         826    130       [https://rickandmortyapi.com/api/episode/28]   \n",
       "url             826    826        https://rickandmortyapi.com/api/character/1   \n",
       "image           826    826  https://rickandmortyapi.com/api/character/avat...   \n",
       "created         826    826                           2017-11-04T18:48:46.250Z   \n",
       "origin_url      826     97                                                      \n",
       "location_url    826     95        https://rickandmortyapi.com/api/location/20   \n",
       "\n",
       "              freq  \n",
       "name             5  \n",
       "gender         610  \n",
       "status         439  \n",
       "species        366  \n",
       "type           401  \n",
       "origin_name    300  \n",
       "location_name  230  \n",
       "episode         51  \n",
       "url              1  \n",
       "image            1  \n",
       "created          1  \n",
       "origin_url     300  \n",
       "location_url   230  "
      ]
     },
     "execution_count": 120,
     "metadata": {},
     "output_type": "execute_result"
    }
   ],
   "source": [
    "df.describe(include = object).T"
   ]
  },
  {
   "cell_type": "markdown",
   "metadata": {},
   "source": [
    "------\n",
    "## {3} 🛸 Visualizing the variables:"
   ]
  },
  {
   "cell_type": "markdown",
   "metadata": {},
   "source": [
    "As the variables are categorical and most of them have multiple categories, we'll just check:\n",
    "- Status\n",
    "- Species\n",
    "\n",
    "With the hue based on the gender."
   ]
  },
  {
   "cell_type": "code",
   "execution_count": 160,
   "metadata": {},
   "outputs": [
    {
     "data": {
      "image/png": "[encoded data removed]",
      "text/plain": [
       "<Figure size 1296x720 with 2 Axes>"
      ]
     },
     "metadata": {
      "needs_background": "light"
     },
     "output_type": "display_data"
    }
   ],
   "source": [
    "fig, ax = plt.subplots(1, 2, figsize= (18, 10))\n",
    "ax = ax.flatten()\n",
    "i = 0\n",
    "for i, column in enumerate(df[['status', 'species']].columns):\n",
    "    sns.countplot(data=df, x = column, ax = ax[i],hue=\"gender\")\n",
    "\n",
    "   \n",
    "\n"
   ]
  }
 ],
 "metadata": {
  "kernelspec": {
   "display_name": "Python 3.9.7 ('base')",
   "language": "python",
   "name": "python3"
  },
  "language_info": {
   "codemirror_mode": {
    "name": "ipython",
    "version": 3
   },
   "file_extension": ".py",
   "mimetype": "text/x-python",
   "name": "python",
   "nbconvert_exporter": "python",
   "pygments_lexer": "ipython3",
   "version": "3.9.7"
  },
  "orig_nbformat": 4,
  "vscode": {
   "interpreter": {
    "hash": "e06ff7da33dc9620448857a90ad8b5f428f0d573d205a934d2841c8aee45ea32"
   }
  }
 },
 "nbformat": 4,
 "nbformat_minor": 2
}
