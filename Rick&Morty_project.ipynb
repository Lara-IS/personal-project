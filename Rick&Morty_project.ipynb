{
 "cells": [
  {
   "cell_type": "markdown",
   "metadata": {},
   "source": [
    "## DATA ANALYSIS' PROJECT\n",
    "# <font color = orange> 🚀 **__RICK & MORTY__** 🚀"
   ]
  },
  {
   "cell_type": "markdown",
   "metadata": {},
   "source": [
    "### Libraries"
   ]
  },
  {
   "cell_type": "code",
   "execution_count": 8,
   "metadata": {},
   "outputs": [],
   "source": [
    "import pandas as pd\n",
    "import numpy as  np\n",
    "import requests\n",
    "\n",
    "import sys \n",
    "import pyjsonviewer\n",
    "import seaborn as sns \n",
    "import matplotlib.pyplot as plt \n",
    "\n",
    "#import mysql.connector \n",
    "import os \n",
    "#from dotenv import load_dotenv\n"
   ]
  },
  {
   "cell_type": "markdown",
   "metadata": {},
   "source": [
    "## API\n",
    "- Call to the API and transformation to json\n",
    "- Extraction of character's data\n",
    "- Creation of a dataframe for the first url (page 1) and concatenation of following pages \n"
   ]
  },
  {
   "cell_type": "code",
   "execution_count": 153,
   "metadata": {},
   "outputs": [],
   "source": [
    "json = requests.get(\"https://rickandmortyapi.com/api/character\").json()\n",
    "df = pd.DataFrame(json[\"results\"])\n"
   ]
  },
  {
   "cell_type": "code",
   "execution_count": 154,
   "metadata": {},
   "outputs": [],
   "source": [
    "page = 2\n",
    "while page < 43:\n",
    "    json2 = requests.get(\"https://rickandmortyapi.com/api/character/?page=\"+str(page)).json()\n",
    "    df_n = pd.DataFrame(json2['results'])\n",
    "    df = pd.concat([df, df_n])\n",
    "    page += 1"
   ]
  },
  {
   "cell_type": "code",
   "execution_count": null,
   "metadata": {},
   "outputs": [],
   "source": [
    "df.reset_index(inplace=True)\n",
    "#df.drop(columns=\"index\", inplace = True)"
   ]
  },
  {
   "cell_type": "markdown",
   "metadata": {},
   "source": [
    "------"
   ]
  },
  {
   "cell_type": "markdown",
   "metadata": {},
   "source": [
    "- Unpacking of dictonary-type columns \"origin\" and \"location\" into: origin_name, origin_url, location_name and location_url"
   ]
  },
  {
   "cell_type": "code",
   "execution_count": 277,
   "metadata": {},
   "outputs": [
    {
     "data": {
      "text/html": [
       "<div>\n",
       "<style scoped>\n",
       "    .dataframe tbody tr th:only-of-type {\n",
       "        vertical-align: middle;\n",
       "    }\n",
       "\n",
       "    .dataframe tbody tr th {\n",
       "        vertical-align: top;\n",
       "    }\n",
       "\n",
       "    .dataframe thead th {\n",
       "        text-align: right;\n",
       "    }\n",
       "</style>\n",
       "<table border=\"1\" class=\"dataframe\">\n",
       "  <thead>\n",
       "    <tr style=\"text-align: right;\">\n",
       "      <th></th>\n",
       "      <th>id</th>\n",
       "      <th>name</th>\n",
       "      <th>status</th>\n",
       "      <th>species</th>\n",
       "      <th>type</th>\n",
       "      <th>gender</th>\n",
       "      <th>origin</th>\n",
       "      <th>location</th>\n",
       "      <th>image</th>\n",
       "      <th>episode</th>\n",
       "      <th>url</th>\n",
       "      <th>created</th>\n",
       "      <th>origin_name</th>\n",
       "      <th>origin_url</th>\n",
       "    </tr>\n",
       "  </thead>\n",
       "  <tbody>\n",
       "    <tr>\n",
       "      <th>274</th>\n",
       "      <td>275</td>\n",
       "      <td>Randy Dicknose</td>\n",
       "      <td>Alive</td>\n",
       "      <td>Human</td>\n",
       "      <td></td>\n",
       "      <td>Male</td>\n",
       "      <td>{'name': 'unknown', 'url': ''}</td>\n",
       "      <td>{'name': 'Interdimensional Cable', 'url': 'htt...</td>\n",
       "      <td>https://rickandmortyapi.com/api/character/avat...</td>\n",
       "      <td>[https://rickandmortyapi.com/api/episode/19]</td>\n",
       "      <td>https://rickandmortyapi.com/api/character/275</td>\n",
       "      <td>2017-12-31T14:16:45.776Z</td>\n",
       "      <td>Earth (Replacement Dimension)</td>\n",
       "      <td>https://rickandmortyapi.com/api/location/20</td>\n",
       "    </tr>\n",
       "    <tr>\n",
       "      <th>585</th>\n",
       "      <td>586</td>\n",
       "      <td>PC Basketball Player</td>\n",
       "      <td>Alive</td>\n",
       "      <td>Human</td>\n",
       "      <td></td>\n",
       "      <td>Male</td>\n",
       "      <td>{'name': 'Earth (Replacement Dimension)', 'url...</td>\n",
       "      <td>{'name': 'Earth (Replacement Dimension)', 'url...</td>\n",
       "      <td>https://rickandmortyapi.com/api/character/avat...</td>\n",
       "      <td>[https://rickandmortyapi.com/api/episode/36]</td>\n",
       "      <td>https://rickandmortyapi.com/api/character/586</td>\n",
       "      <td>2020-05-07T12:42:24.982Z</td>\n",
       "      <td>Earth (Replacement Dimension)</td>\n",
       "      <td>https://rickandmortyapi.com/api/location/20</td>\n",
       "    </tr>\n",
       "    <tr>\n",
       "      <th>269</th>\n",
       "      <td>270</td>\n",
       "      <td>Prince Nebulon</td>\n",
       "      <td>Dead</td>\n",
       "      <td>Alien</td>\n",
       "      <td>Zigerion</td>\n",
       "      <td>Male</td>\n",
       "      <td>{'name': 'unknown', 'url': ''}</td>\n",
       "      <td>{'name': 'Zigerion's Base', 'url': 'https://ri...</td>\n",
       "      <td>https://rickandmortyapi.com/api/character/avat...</td>\n",
       "      <td>[https://rickandmortyapi.com/api/episode/4]</td>\n",
       "      <td>https://rickandmortyapi.com/api/character/270</td>\n",
       "      <td>2017-12-31T14:05:24.406Z</td>\n",
       "      <td>Earth (Replacement Dimension)</td>\n",
       "      <td>https://rickandmortyapi.com/api/location/20</td>\n",
       "    </tr>\n",
       "  </tbody>\n",
       "</table>\n",
       "</div>"
      ],
      "text/plain": [
       "      id                  name status species      type gender  \\\n",
       "274  275        Randy Dicknose  Alive   Human             Male   \n",
       "585  586  PC Basketball Player  Alive   Human             Male   \n",
       "269  270        Prince Nebulon   Dead   Alien  Zigerion   Male   \n",
       "\n",
       "                                                origin  \\\n",
       "274                     {'name': 'unknown', 'url': ''}   \n",
       "585  {'name': 'Earth (Replacement Dimension)', 'url...   \n",
       "269                     {'name': 'unknown', 'url': ''}   \n",
       "\n",
       "                                              location  \\\n",
       "274  {'name': 'Interdimensional Cable', 'url': 'htt...   \n",
       "585  {'name': 'Earth (Replacement Dimension)', 'url...   \n",
       "269  {'name': 'Zigerion's Base', 'url': 'https://ri...   \n",
       "\n",
       "                                                 image  \\\n",
       "274  https://rickandmortyapi.com/api/character/avat...   \n",
       "585  https://rickandmortyapi.com/api/character/avat...   \n",
       "269  https://rickandmortyapi.com/api/character/avat...   \n",
       "\n",
       "                                          episode  \\\n",
       "274  [https://rickandmortyapi.com/api/episode/19]   \n",
       "585  [https://rickandmortyapi.com/api/episode/36]   \n",
       "269   [https://rickandmortyapi.com/api/episode/4]   \n",
       "\n",
       "                                               url                   created  \\\n",
       "274  https://rickandmortyapi.com/api/character/275  2017-12-31T14:16:45.776Z   \n",
       "585  https://rickandmortyapi.com/api/character/586  2020-05-07T12:42:24.982Z   \n",
       "269  https://rickandmortyapi.com/api/character/270  2017-12-31T14:05:24.406Z   \n",
       "\n",
       "                       origin_name  \\\n",
       "274  Earth (Replacement Dimension)   \n",
       "585  Earth (Replacement Dimension)   \n",
       "269  Earth (Replacement Dimension)   \n",
       "\n",
       "                                      origin_url  \n",
       "274  https://rickandmortyapi.com/api/location/20  \n",
       "585  https://rickandmortyapi.com/api/location/20  \n",
       "269  https://rickandmortyapi.com/api/location/20  "
      ]
     },
     "execution_count": 277,
     "metadata": {},
     "output_type": "execute_result"
    }
   ],
   "source": [
    "df.sample(3)"
   ]
  },
  {
   "cell_type": "code",
   "execution_count": 263,
   "metadata": {},
   "outputs": [],
   "source": [
    "def get_origin(col, item):\n",
    "    for key, value in col.items():\n",
    "        for key2, value2, in value.items():\n",
    "            if key2 == item:\n",
    "                origin = value2\n",
    "            else:\n",
    "                pass\n",
    "    return origin          "
   ]
  },
  {
   "cell_type": "code",
   "execution_count": 261,
   "metadata": {},
   "outputs": [],
   "source": [
    "df[\"origin_name\"] = get_origin(col = df[\"origin\"], item = \"name\")"
   ]
  },
  {
   "cell_type": "code",
   "execution_count": null,
   "metadata": {},
   "outputs": [],
   "source": [
    "df[\"origin_name\"]"
   ]
  },
  {
   "cell_type": "code",
   "execution_count": 264,
   "metadata": {},
   "outputs": [],
   "source": [
    "df[\"origin_url\"] = get_origin(col = df[\"origin\"], item = \"url\")"
   ]
  },
  {
   "cell_type": "code",
   "execution_count": null,
   "metadata": {},
   "outputs": [],
   "source": [
    "df[\"origin_url\"] "
   ]
  },
  {
   "cell_type": "code",
   "execution_count": 237,
   "metadata": {},
   "outputs": [],
   "source": [
    "def saca_item(col, item):\n",
    "    for key, value in df[\"origin\"].items():\n",
    "        for key2, value2, in value.items():\n",
    "            if key2 == item:\n",
    "                col = value2\n",
    "            else:\n",
    "                pass\n"
   ]
  },
  {
   "cell_type": "code",
   "execution_count": 238,
   "metadata": {},
   "outputs": [],
   "source": [
    "df[\"origin_name\"] = df[\"origin\"].apply(saca_item, item = \"name\")"
   ]
  },
  {
   "cell_type": "code",
   "execution_count": 239,
   "metadata": {},
   "outputs": [
    {
     "data": {
      "text/plain": [
       "0      None\n",
       "1      None\n",
       "2      None\n",
       "3      None\n",
       "4      None\n",
       "       ... \n",
       "821    None\n",
       "822    None\n",
       "823    None\n",
       "824    None\n",
       "825    None\n",
       "Name: origin_name, Length: 826, dtype: object"
      ]
     },
     "execution_count": 239,
     "metadata": {},
     "output_type": "execute_result"
    }
   ],
   "source": [
    "df[\"origin_name\"]"
   ]
  }
 ],
 "metadata": {
  "kernelspec": {
   "display_name": "Python 3.9.7 ('base')",
   "language": "python",
   "name": "python3"
  },
  "language_info": {
   "codemirror_mode": {
    "name": "ipython",
    "version": 3
   },
   "file_extension": ".py",
   "mimetype": "text/x-python",
   "name": "python",
   "nbconvert_exporter": "python",
   "pygments_lexer": "ipython3",
   "version": "3.9.7"
  },
  "orig_nbformat": 4,
  "vscode": {
   "interpreter": {
    "hash": "e06ff7da33dc9620448857a90ad8b5f428f0d573d205a934d2841c8aee45ea32"
   }
  }
 },
 "nbformat": 4,
 "nbformat_minor": 2
}
